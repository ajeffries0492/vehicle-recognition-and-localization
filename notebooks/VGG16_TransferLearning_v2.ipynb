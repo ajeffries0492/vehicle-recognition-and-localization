{
 "cells": [
  {
   "cell_type": "code",
   "execution_count": 1,
   "metadata": {
    "executionInfo": {
     "elapsed": 3163,
     "status": "ok",
     "timestamp": 1637993310880,
     "user": {
      "displayName": "Austin Jeffries",
      "photoUrl": "https://lh3.googleusercontent.com/a-/AOh14GhKTFCAuoH8w9dWzAPKQyLC6v2zTD_t0uH0NrnL=s64",
      "userId": "15961895995029592491"
     },
     "user_tz": 360
    },
    "id": "pHeYb4d2I6Gu"
   },
   "outputs": [],
   "source": [
    "import os\n",
    "import time\n",
    "\n",
    "import re\n",
    "from pathlib import Path\n",
    "\n",
    "import pandas as pd\n",
    "import numpy as np\n",
    "\n",
    "import tensorflow as tf\n",
    "from tensorflow import keras\n",
    "from tensorflow.keras import layers, models\n",
    "from tensorflow.keras.callbacks import EarlyStopping\n",
    "\n",
    "from sklearn.metrics import confusion_matrix\n",
    "from sklearn.model_selection import train_test_split\n",
    "\n",
    "\n",
    "import cv2\n",
    "\n",
    "import matplotlib.pyplot as plt\n",
    "import seaborn as sns\n",
    "\n",
    "\n"
   ]
  },
  {
   "cell_type": "code",
   "execution_count": 2,
   "metadata": {
    "colab": {
     "base_uri": "https://localhost:8080/"
    },
    "executionInfo": {
     "elapsed": 12,
     "status": "ok",
     "timestamp": 1637993310881,
     "user": {
      "displayName": "Austin Jeffries",
      "photoUrl": "https://lh3.googleusercontent.com/a-/AOh14GhKTFCAuoH8w9dWzAPKQyLC6v2zTD_t0uH0NrnL=s64",
      "userId": "15961895995029592491"
     },
     "user_tz": 360
    },
    "id": "wW9awbxRJkRt",
    "outputId": "45ea9d94-5111-4c68-d0b5-13655db0f954"
   },
   "outputs": [
    {
     "name": "stdout",
     "output_type": "stream",
     "text": [
      "Drive already mounted at /content/drive; to attempt to forcibly remount, call drive.mount(\"/content/drive\", force_remount=True).\n"
     ]
    }
   ],
   "source": []
  },
  {
   "cell_type": "code",
   "execution_count": 2,
   "metadata": {
    "colab": {
     "base_uri": "https://localhost:8080/"
    },
    "executionInfo": {
     "elapsed": 148,
     "status": "ok",
     "timestamp": 1637993311477,
     "user": {
      "displayName": "Austin Jeffries",
      "photoUrl": "https://lh3.googleusercontent.com/a-/AOh14GhKTFCAuoH8w9dWzAPKQyLC6v2zTD_t0uH0NrnL=s64",
      "userId": "15961895995029592491"
     },
     "user_tz": 360
    },
    "id": "XwuNVlqkJrMd",
    "outputId": "b4ceb552-a863-47c3-bc8a-0a6078d77dd0"
   },
   "outputs": [
    {
     "name": "stdout",
     "output_type": "stream",
     "text": [
      "GPU device not found\n",
      "Tensorflow Version: 2.7.0\n"
     ]
    }
   ],
   "source": [
    "device_name = tf.test.gpu_device_name()\n",
    "if device_name != '/device:GPU:0':\n",
    "  print('GPU device not found')\n",
    "else:\n",
    "  print('Found GPU at: {}'.format(device_name))\n",
    "\n",
    "print(f\"Tensorflow Version: {tf.version.VERSION}\")"
   ]
  },
  {
   "cell_type": "code",
   "execution_count": 3,
   "metadata": {
    "executionInfo": {
     "elapsed": 6,
     "status": "ok",
     "timestamp": 1637993311478,
     "user": {
      "displayName": "Austin Jeffries",
      "photoUrl": "https://lh3.googleusercontent.com/a-/AOh14GhKTFCAuoH8w9dWzAPKQyLC6v2zTD_t0uH0NrnL=s64",
      "userId": "15961895995029592491"
     },
     "user_tz": 360
    },
    "id": "KoOkstttBmWo"
   },
   "outputs": [],
   "source": [
    "\n"
   ]
  },
  {
   "cell_type": "code",
   "execution_count": 3,
   "metadata": {
    "id": "ea4XuyYTJ5MY"
   },
   "outputs": [
    {
     "name": "stdout",
     "output_type": "stream",
     "text": [
      "Training Images shape: (105998, 100, 100, 3)\n",
      "Validation Images shape: (26500, 100, 100, 3)\n",
      "Test Images shape: (33125, 100, 100, 3)\n",
      "There are 9 unique classes.\n"
     ]
    }
   ],
   "source": [
    "X = np.load('XSegmentedImagesNoBackground.npy')\n",
    "Y = np.load('y2SegmentedImagesNoBackground.npy')\n",
    "\n",
    "yUnique = np.unique(Y)\n",
    "NUnique = len(yUnique)\n",
    "\n",
    "\n",
    "# Update Height and Width\n",
    "N, height, width, channels =  X.shape\n",
    "\n",
    "for i_img in range(N):\n",
    "  X[i_img,:,:,:] = tf.keras.applications.vgg16.preprocess_input(X[i_img,:,:,:])\n",
    "# One Hot Encode Y Labels\n",
    "y = tf.keras.utils.to_categorical(Y, num_classes=NUnique)\n",
    "\n",
    "# Use a utility from sklearn to split and shuffle your dataset.\n",
    "XTrain, XTest, YTrain,YTest = train_test_split(X, y,test_size=0.2)\n",
    "XTrain, XVal, YTrain,YVal = train_test_split(XTrain,YTrain, test_size=0.2)\n",
    "\n",
    "print('Training Images shape:', XTrain.shape)\n",
    "print('Validation Images shape:', XVal.shape)\n",
    "print('Test Images shape:', XTest.shape)\n",
    "\n",
    "\n",
    "print(f\"There are {NUnique} unique classes.\")\n",
    "\n"
   ]
  },
  {
   "cell_type": "markdown",
   "metadata": {
    "id": "Ihcv5ZodsIHk"
   },
   "source": [
    "Create Model"
   ]
  },
  {
   "cell_type": "code",
   "execution_count": 7,
   "metadata": {
    "id": "VgDNV-x5KeOh"
   },
   "outputs": [],
   "source": [
    "METRICS = [\n",
    "      keras.metrics.TruePositives(name='tp'),\n",
    "      keras.metrics.FalsePositives(name='fp'),\n",
    "      keras.metrics.TrueNegatives(name='tn'),\n",
    "      keras.metrics.FalseNegatives(name='fn'), \n",
    "      keras.metrics.BinaryAccuracy(name='accuracy'),\n",
    "      keras.metrics.Precision(name='precision'),\n",
    "      keras.metrics.Recall(name='recall'),\n",
    "      keras.metrics.AUC(name='auc'),\n",
    "      keras.metrics.AUC(name='prc', curve='PR'), # precision-recall curve\n",
    "]\n",
    "def make_model(metrics=METRICS, output_bias=None):\n",
    "  if output_bias is not None:\n",
    "    output_bias = tf.keras.initializers.Constant(output_bias)\n",
    "\n",
    "  base_model = tf.keras.applications.VGG16(\n",
    "    weights=\"imagenet\", \n",
    "    include_top=False,\n",
    "    input_shape=(height, width,3),\n",
    "    \n",
    "  )\n",
    "  # Freeze all the layers Previously Learned\n",
    "  for layer in base_model.layers[:]:\n",
    "      layer.trainable = False\n",
    "\n",
    "  # Check the trainable status of the individual layers\n",
    "  for layer in base_model.layers:\n",
    "\n",
    "      print(layer, layer.trainable)\n",
    "\n",
    "  # Define Trainable Layers\n",
    "  flatten_layer = layers.Flatten()\n",
    "  dense_layer = layers.Dense(1024, activation='relu')\n",
    "  drop_layer = layers.Dropout(0.5)\n",
    "  prediction_layer = layers.Dense(NUnique, activation='softmax')\n",
    "\n",
    "\n",
    "\n",
    "  # Add Base Model to New Layers\n",
    "  model = models.Sequential([\n",
    "      base_model,\n",
    "      flatten_layer,\n",
    "      dense_layer,\n",
    "      drop_layer,\n",
    "      prediction_layer\n",
    "  ])\n",
    "\n",
    "  model.compile(\n",
    "      optimizer=keras.optimizers.Adam(learning_rate=1e-3),\n",
    "      loss=keras.losses.categorical_crossentropy,\n",
    "      metrics=metrics)\n",
    "\n",
    "  return model\n",
    "\n",
    "def plot_metrics(history):\n",
    "  metrics = ['loss', 'prc', 'precision', 'recall']\n",
    "  fig = plt.gcf()\n",
    "  fig.set_size_inches(18.5, 10.5, forward=True)\n",
    "  for n, metric in enumerate(metrics):\n",
    "    name = metric.replace(\"_\",\" \").capitalize()\n",
    "    plt.subplot(2,2,n+1)\n",
    "    plt.plot(history.epoch, history.history[metric], label='Train')\n",
    "    plt.plot(history.epoch, history.history['val_'+metric],\n",
    "              linestyle=\"--\", label='Val')\n",
    "    plt.xlabel('Epoch')\n",
    "    plt.ylabel(name)\n",
    "    if metric == 'loss':\n",
    "      plt.ylim([0, plt.ylim()[1]])\n",
    "    elif metric == 'auc':\n",
    "      plt.ylim([0.8,1])\n",
    "    else:\n",
    "      plt.ylim([0,1])\n",
    "\n",
    "    plt.legend()\n",
    "\n",
    "def plot_cm(y_true, y_pred):\n",
    "  cm = confusion_matrix(y_true, y_pred)\n",
    "  plt.figure(figsize=(10,10))\n",
    "  sns.heatmap(cm, annot=True, fmt=\"d\")\n",
    "  plt.title('Confusion matrix')\n",
    "  plt.ylabel('Actual label')\n",
    "  plt.xlabel('Predicted label')"
   ]
  },
  {
   "cell_type": "code",
   "execution_count": null,
   "metadata": {
    "id": "517b3R28KsQe"
   },
   "outputs": [],
   "source": []
  },
  {
   "cell_type": "code",
   "execution_count": 8,
   "metadata": {
    "id": "hK7SoAaZ2FIF"
   },
   "outputs": [],
   "source": [
    "# checkpoint\n",
    "filepath=\"model-epoch-{epoch:02d}.hdf5\"\n",
    "checkpoint = keras.callbacks.ModelCheckpoint(filepath, monitor='val_accuracy', verbose=1, save_best_only=True, mode='max')\n",
    "early_stopping = tf.keras.callbacks.EarlyStopping(\n",
    "    monitor='val_prc', \n",
    "    verbose=1,\n",
    "    patience=10,\n",
    "    mode='max',\n",
    "    restore_best_weights=True)\n",
    "callbacks_list = [early_stopping]"
   ]
  },
  {
   "cell_type": "code",
   "execution_count": 9,
   "metadata": {
    "id": "Xf4ibv3pK_7O"
   },
   "outputs": [
    {
     "name": "stdout",
     "output_type": "stream",
     "text": [
      "<keras.engine.input_layer.InputLayer object at 0x7fe845a3dd90> False\n",
      "<keras.layers.convolutional.Conv2D object at 0x7fe83ce10940> False\n",
      "<keras.layers.convolutional.Conv2D object at 0x7fe845a3dd60> False\n",
      "<keras.layers.pooling.MaxPooling2D object at 0x7fe845a3d910> False\n",
      "<keras.layers.convolutional.Conv2D object at 0x7fe7fff9c6d0> False\n",
      "<keras.layers.convolutional.Conv2D object at 0x7fe7fff92370> False\n",
      "<keras.layers.pooling.MaxPooling2D object at 0x7fe7fff9c280> False\n",
      "<keras.layers.convolutional.Conv2D object at 0x7fe83ce13730> False\n",
      "<keras.layers.convolutional.Conv2D object at 0x7fe83ce1ae80> False\n",
      "<keras.layers.convolutional.Conv2D object at 0x7fe83ce21b50> False\n",
      "<keras.layers.pooling.MaxPooling2D object at 0x7fe83ce1ac70> False\n",
      "<keras.layers.convolutional.Conv2D object at 0x7fe83ce27af0> False\n",
      "<keras.layers.convolutional.Conv2D object at 0x7fe83ce23b50> False\n",
      "<keras.layers.convolutional.Conv2D object at 0x7fe83d800190> False\n",
      "<keras.layers.pooling.MaxPooling2D object at 0x7fe83d803430> False\n",
      "<keras.layers.convolutional.Conv2D object at 0x7fe83d803a00> False\n",
      "<keras.layers.convolutional.Conv2D object at 0x7fe83ce27460> False\n",
      "<keras.layers.convolutional.Conv2D object at 0x7fe7fff922b0> False\n",
      "<keras.layers.pooling.MaxPooling2D object at 0x7fe83d8038b0> False\n",
      "Epoch 1/20\n",
      "1060/1060 [==============================] - 5612s 5s/step - loss: 0.5983 - tp: 101227.0000 - fp: 2650.0000 - tn: 845334.0000 - fn: 4771.0000 - accuracy: 0.9922 - precision: 0.9745 - recall: 0.9550 - auc: 0.9925 - prc: 0.9793 - val_loss: 0.1275 - val_tp: 25658.0000 - val_fp: 446.0000 - val_tn: 211554.0000 - val_fn: 842.0000 - val_accuracy: 0.9946 - val_precision: 0.9829 - val_recall: 0.9682 - val_auc: 0.9963 - val_prc: 0.9898\n",
      "Epoch 2/20\n",
      "1060/1060 [==============================] - 5632s 5s/step - loss: 0.1288 - tp: 102218.0000 - fp: 1723.0000 - tn: 846261.0000 - fn: 3780.0000 - accuracy: 0.9942 - precision: 0.9834 - recall: 0.9643 - auc: 0.9967 - prc: 0.9906 - val_loss: 0.0875 - val_tp: 25778.0000 - val_fp: 323.0000 - val_tn: 211677.0000 - val_fn: 722.0000 - val_accuracy: 0.9956 - val_precision: 0.9876 - val_recall: 0.9728 - val_auc: 0.9979 - val_prc: 0.9945\n",
      "Epoch 3/20\n",
      "1060/1060 [==============================] - 5708s 5s/step - loss: 0.1211 - tp: 102294.0000 - fp: 1568.0000 - tn: 846416.0000 - fn: 3704.0000 - accuracy: 0.9945 - precision: 0.9849 - recall: 0.9651 - auc: 0.9968 - prc: 0.9910 - val_loss: 0.0897 - val_tp: 25774.0000 - val_fp: 285.0000 - val_tn: 211715.0000 - val_fn: 726.0000 - val_accuracy: 0.9958 - val_precision: 0.9891 - val_recall: 0.9726 - val_auc: 0.9979 - val_prc: 0.9943\n",
      "Epoch 4/20\n",
      "1060/1060 [==============================] - 5607s 5s/step - loss: 0.1149 - tp: 102368.0000 - fp: 1382.0000 - tn: 846602.0000 - fn: 3630.0000 - accuracy: 0.9947 - precision: 0.9867 - recall: 0.9658 - auc: 0.9972 - prc: 0.9920 - val_loss: 0.0845 - val_tp: 25804.0000 - val_fp: 266.0000 - val_tn: 211734.0000 - val_fn: 696.0000 - val_accuracy: 0.9960 - val_precision: 0.9898 - val_recall: 0.9737 - val_auc: 0.9981 - val_prc: 0.9945\n",
      "Epoch 5/20\n",
      "1060/1060 [==============================] - 5766s 5s/step - loss: 0.1073 - tp: 102579.0000 - fp: 1216.0000 - tn: 846768.0000 - fn: 3419.0000 - accuracy: 0.9951 - precision: 0.9883 - recall: 0.9677 - auc: 0.9975 - prc: 0.9927 - val_loss: 0.0856 - val_tp: 25789.0000 - val_fp: 280.0000 - val_tn: 211720.0000 - val_fn: 711.0000 - val_accuracy: 0.9958 - val_precision: 0.9893 - val_recall: 0.9732 - val_auc: 0.9982 - val_prc: 0.9945\n",
      "Epoch 6/20\n",
      " 395/1060 [==========>...................] - ETA: 47:09 - loss: 0.1057 - tp: 38210.0000 - fp: 429.0000 - tn: 315571.0000 - fn: 1290.0000 - accuracy: 0.9952 - precision: 0.9889 - recall: 0.9673 - auc: 0.9977 - prc: 0.9932"
     ]
    },
    {
     "ename": "KeyboardInterrupt",
     "evalue": "",
     "output_type": "error",
     "traceback": [
      "\u001b[0;31m---------------------------------------------------------------------------\u001b[0m",
      "\u001b[0;31mKeyboardInterrupt\u001b[0m                         Traceback (most recent call last)",
      "\u001b[0;32m<ipython-input-9-1c0fa16b79bb>\u001b[0m in \u001b[0;36m<module>\u001b[0;34m\u001b[0m\n\u001b[1;32m      5\u001b[0m \u001b[0;34m\u001b[0m\u001b[0m\n\u001b[1;32m      6\u001b[0m \u001b[0mmodel\u001b[0m \u001b[0;34m=\u001b[0m \u001b[0mmake_model\u001b[0m\u001b[0;34m(\u001b[0m\u001b[0;34m)\u001b[0m\u001b[0;34m\u001b[0m\u001b[0;34m\u001b[0m\u001b[0m\n\u001b[0;32m----> 7\u001b[0;31m history = model.fit(XTrain, YTrain, \n\u001b[0m\u001b[1;32m      8\u001b[0m                     \u001b[0mbatch_size\u001b[0m\u001b[0;34m=\u001b[0m\u001b[0mBATCH_SIZE\u001b[0m\u001b[0;34m,\u001b[0m\u001b[0;34m\u001b[0m\u001b[0;34m\u001b[0m\u001b[0m\n\u001b[1;32m      9\u001b[0m                     \u001b[0mepochs\u001b[0m\u001b[0;34m=\u001b[0m\u001b[0mEPOCHS\u001b[0m\u001b[0;34m,\u001b[0m\u001b[0;34m\u001b[0m\u001b[0;34m\u001b[0m\u001b[0m\n",
      "\u001b[0;32m/opt/anaconda3/lib/python3.8/site-packages/keras/utils/traceback_utils.py\u001b[0m in \u001b[0;36merror_handler\u001b[0;34m(*args, **kwargs)\u001b[0m\n\u001b[1;32m     62\u001b[0m     \u001b[0mfiltered_tb\u001b[0m \u001b[0;34m=\u001b[0m \u001b[0;32mNone\u001b[0m\u001b[0;34m\u001b[0m\u001b[0;34m\u001b[0m\u001b[0m\n\u001b[1;32m     63\u001b[0m     \u001b[0;32mtry\u001b[0m\u001b[0;34m:\u001b[0m\u001b[0;34m\u001b[0m\u001b[0;34m\u001b[0m\u001b[0m\n\u001b[0;32m---> 64\u001b[0;31m       \u001b[0;32mreturn\u001b[0m \u001b[0mfn\u001b[0m\u001b[0;34m(\u001b[0m\u001b[0;34m*\u001b[0m\u001b[0margs\u001b[0m\u001b[0;34m,\u001b[0m \u001b[0;34m**\u001b[0m\u001b[0mkwargs\u001b[0m\u001b[0;34m)\u001b[0m\u001b[0;34m\u001b[0m\u001b[0;34m\u001b[0m\u001b[0m\n\u001b[0m\u001b[1;32m     65\u001b[0m     \u001b[0;32mexcept\u001b[0m \u001b[0mException\u001b[0m \u001b[0;32mas\u001b[0m \u001b[0me\u001b[0m\u001b[0;34m:\u001b[0m  \u001b[0;31m# pylint: disable=broad-except\u001b[0m\u001b[0;34m\u001b[0m\u001b[0;34m\u001b[0m\u001b[0m\n\u001b[1;32m     66\u001b[0m       \u001b[0mfiltered_tb\u001b[0m \u001b[0;34m=\u001b[0m \u001b[0m_process_traceback_frames\u001b[0m\u001b[0;34m(\u001b[0m\u001b[0me\u001b[0m\u001b[0;34m.\u001b[0m\u001b[0m__traceback__\u001b[0m\u001b[0;34m)\u001b[0m\u001b[0;34m\u001b[0m\u001b[0;34m\u001b[0m\u001b[0m\n",
      "\u001b[0;32m/opt/anaconda3/lib/python3.8/site-packages/keras/engine/training.py\u001b[0m in \u001b[0;36mfit\u001b[0;34m(self, x, y, batch_size, epochs, verbose, callbacks, validation_split, validation_data, shuffle, class_weight, sample_weight, initial_epoch, steps_per_epoch, validation_steps, validation_batch_size, validation_freq, max_queue_size, workers, use_multiprocessing)\u001b[0m\n\u001b[1;32m   1214\u001b[0m                 _r=1):\n\u001b[1;32m   1215\u001b[0m               \u001b[0mcallbacks\u001b[0m\u001b[0;34m.\u001b[0m\u001b[0mon_train_batch_begin\u001b[0m\u001b[0;34m(\u001b[0m\u001b[0mstep\u001b[0m\u001b[0;34m)\u001b[0m\u001b[0;34m\u001b[0m\u001b[0;34m\u001b[0m\u001b[0m\n\u001b[0;32m-> 1216\u001b[0;31m               \u001b[0mtmp_logs\u001b[0m \u001b[0;34m=\u001b[0m \u001b[0mself\u001b[0m\u001b[0;34m.\u001b[0m\u001b[0mtrain_function\u001b[0m\u001b[0;34m(\u001b[0m\u001b[0miterator\u001b[0m\u001b[0;34m)\u001b[0m\u001b[0;34m\u001b[0m\u001b[0;34m\u001b[0m\u001b[0m\n\u001b[0m\u001b[1;32m   1217\u001b[0m               \u001b[0;32mif\u001b[0m \u001b[0mdata_handler\u001b[0m\u001b[0;34m.\u001b[0m\u001b[0mshould_sync\u001b[0m\u001b[0;34m:\u001b[0m\u001b[0;34m\u001b[0m\u001b[0;34m\u001b[0m\u001b[0m\n\u001b[1;32m   1218\u001b[0m                 \u001b[0mcontext\u001b[0m\u001b[0;34m.\u001b[0m\u001b[0masync_wait\u001b[0m\u001b[0;34m(\u001b[0m\u001b[0;34m)\u001b[0m\u001b[0;34m\u001b[0m\u001b[0;34m\u001b[0m\u001b[0m\n",
      "\u001b[0;32m/opt/anaconda3/lib/python3.8/site-packages/tensorflow/python/util/traceback_utils.py\u001b[0m in \u001b[0;36merror_handler\u001b[0;34m(*args, **kwargs)\u001b[0m\n\u001b[1;32m    148\u001b[0m     \u001b[0mfiltered_tb\u001b[0m \u001b[0;34m=\u001b[0m \u001b[0;32mNone\u001b[0m\u001b[0;34m\u001b[0m\u001b[0;34m\u001b[0m\u001b[0m\n\u001b[1;32m    149\u001b[0m     \u001b[0;32mtry\u001b[0m\u001b[0;34m:\u001b[0m\u001b[0;34m\u001b[0m\u001b[0;34m\u001b[0m\u001b[0m\n\u001b[0;32m--> 150\u001b[0;31m       \u001b[0;32mreturn\u001b[0m \u001b[0mfn\u001b[0m\u001b[0;34m(\u001b[0m\u001b[0;34m*\u001b[0m\u001b[0margs\u001b[0m\u001b[0;34m,\u001b[0m \u001b[0;34m**\u001b[0m\u001b[0mkwargs\u001b[0m\u001b[0;34m)\u001b[0m\u001b[0;34m\u001b[0m\u001b[0;34m\u001b[0m\u001b[0m\n\u001b[0m\u001b[1;32m    151\u001b[0m     \u001b[0;32mexcept\u001b[0m \u001b[0mException\u001b[0m \u001b[0;32mas\u001b[0m \u001b[0me\u001b[0m\u001b[0;34m:\u001b[0m\u001b[0;34m\u001b[0m\u001b[0;34m\u001b[0m\u001b[0m\n\u001b[1;32m    152\u001b[0m       \u001b[0mfiltered_tb\u001b[0m \u001b[0;34m=\u001b[0m \u001b[0m_process_traceback_frames\u001b[0m\u001b[0;34m(\u001b[0m\u001b[0me\u001b[0m\u001b[0;34m.\u001b[0m\u001b[0m__traceback__\u001b[0m\u001b[0;34m)\u001b[0m\u001b[0;34m\u001b[0m\u001b[0;34m\u001b[0m\u001b[0m\n",
      "\u001b[0;32m/opt/anaconda3/lib/python3.8/site-packages/tensorflow/python/eager/def_function.py\u001b[0m in \u001b[0;36m__call__\u001b[0;34m(self, *args, **kwds)\u001b[0m\n\u001b[1;32m    908\u001b[0m \u001b[0;34m\u001b[0m\u001b[0m\n\u001b[1;32m    909\u001b[0m       \u001b[0;32mwith\u001b[0m \u001b[0mOptionalXlaContext\u001b[0m\u001b[0;34m(\u001b[0m\u001b[0mself\u001b[0m\u001b[0;34m.\u001b[0m\u001b[0m_jit_compile\u001b[0m\u001b[0;34m)\u001b[0m\u001b[0;34m:\u001b[0m\u001b[0;34m\u001b[0m\u001b[0;34m\u001b[0m\u001b[0m\n\u001b[0;32m--> 910\u001b[0;31m         \u001b[0mresult\u001b[0m \u001b[0;34m=\u001b[0m \u001b[0mself\u001b[0m\u001b[0;34m.\u001b[0m\u001b[0m_call\u001b[0m\u001b[0;34m(\u001b[0m\u001b[0;34m*\u001b[0m\u001b[0margs\u001b[0m\u001b[0;34m,\u001b[0m \u001b[0;34m**\u001b[0m\u001b[0mkwds\u001b[0m\u001b[0;34m)\u001b[0m\u001b[0;34m\u001b[0m\u001b[0;34m\u001b[0m\u001b[0m\n\u001b[0m\u001b[1;32m    911\u001b[0m \u001b[0;34m\u001b[0m\u001b[0m\n\u001b[1;32m    912\u001b[0m       \u001b[0mnew_tracing_count\u001b[0m \u001b[0;34m=\u001b[0m \u001b[0mself\u001b[0m\u001b[0;34m.\u001b[0m\u001b[0mexperimental_get_tracing_count\u001b[0m\u001b[0;34m(\u001b[0m\u001b[0;34m)\u001b[0m\u001b[0;34m\u001b[0m\u001b[0;34m\u001b[0m\u001b[0m\n",
      "\u001b[0;32m/opt/anaconda3/lib/python3.8/site-packages/tensorflow/python/eager/def_function.py\u001b[0m in \u001b[0;36m_call\u001b[0;34m(self, *args, **kwds)\u001b[0m\n\u001b[1;32m    940\u001b[0m       \u001b[0;31m# In this case we have created variables on the first call, so we run the\u001b[0m\u001b[0;34m\u001b[0m\u001b[0;34m\u001b[0m\u001b[0;34m\u001b[0m\u001b[0m\n\u001b[1;32m    941\u001b[0m       \u001b[0;31m# defunned version which is guaranteed to never create variables.\u001b[0m\u001b[0;34m\u001b[0m\u001b[0;34m\u001b[0m\u001b[0;34m\u001b[0m\u001b[0m\n\u001b[0;32m--> 942\u001b[0;31m       \u001b[0;32mreturn\u001b[0m \u001b[0mself\u001b[0m\u001b[0;34m.\u001b[0m\u001b[0m_stateless_fn\u001b[0m\u001b[0;34m(\u001b[0m\u001b[0;34m*\u001b[0m\u001b[0margs\u001b[0m\u001b[0;34m,\u001b[0m \u001b[0;34m**\u001b[0m\u001b[0mkwds\u001b[0m\u001b[0;34m)\u001b[0m  \u001b[0;31m# pylint: disable=not-callable\u001b[0m\u001b[0;34m\u001b[0m\u001b[0;34m\u001b[0m\u001b[0m\n\u001b[0m\u001b[1;32m    943\u001b[0m     \u001b[0;32melif\u001b[0m \u001b[0mself\u001b[0m\u001b[0;34m.\u001b[0m\u001b[0m_stateful_fn\u001b[0m \u001b[0;32mis\u001b[0m \u001b[0;32mnot\u001b[0m \u001b[0;32mNone\u001b[0m\u001b[0;34m:\u001b[0m\u001b[0;34m\u001b[0m\u001b[0;34m\u001b[0m\u001b[0m\n\u001b[1;32m    944\u001b[0m       \u001b[0;31m# Release the lock early so that multiple threads can perform the call\u001b[0m\u001b[0;34m\u001b[0m\u001b[0;34m\u001b[0m\u001b[0;34m\u001b[0m\u001b[0m\n",
      "\u001b[0;32m/opt/anaconda3/lib/python3.8/site-packages/tensorflow/python/eager/function.py\u001b[0m in \u001b[0;36m__call__\u001b[0;34m(self, *args, **kwargs)\u001b[0m\n\u001b[1;32m   3128\u001b[0m       (graph_function,\n\u001b[1;32m   3129\u001b[0m        filtered_flat_args) = self._maybe_define_function(args, kwargs)\n\u001b[0;32m-> 3130\u001b[0;31m     return graph_function._call_flat(\n\u001b[0m\u001b[1;32m   3131\u001b[0m         filtered_flat_args, captured_inputs=graph_function.captured_inputs)  # pylint: disable=protected-access\n\u001b[1;32m   3132\u001b[0m \u001b[0;34m\u001b[0m\u001b[0m\n",
      "\u001b[0;32m/opt/anaconda3/lib/python3.8/site-packages/tensorflow/python/eager/function.py\u001b[0m in \u001b[0;36m_call_flat\u001b[0;34m(self, args, captured_inputs, cancellation_manager)\u001b[0m\n\u001b[1;32m   1957\u001b[0m         and executing_eagerly):\n\u001b[1;32m   1958\u001b[0m       \u001b[0;31m# No tape is watching; skip to running the function.\u001b[0m\u001b[0;34m\u001b[0m\u001b[0;34m\u001b[0m\u001b[0;34m\u001b[0m\u001b[0m\n\u001b[0;32m-> 1959\u001b[0;31m       return self._build_call_outputs(self._inference_function.call(\n\u001b[0m\u001b[1;32m   1960\u001b[0m           ctx, args, cancellation_manager=cancellation_manager))\n\u001b[1;32m   1961\u001b[0m     forward_backward = self._select_forward_and_backward_functions(\n",
      "\u001b[0;32m/opt/anaconda3/lib/python3.8/site-packages/tensorflow/python/eager/function.py\u001b[0m in \u001b[0;36mcall\u001b[0;34m(self, ctx, args, cancellation_manager)\u001b[0m\n\u001b[1;32m    596\u001b[0m       \u001b[0;32mwith\u001b[0m \u001b[0m_InterpolateFunctionError\u001b[0m\u001b[0;34m(\u001b[0m\u001b[0mself\u001b[0m\u001b[0;34m)\u001b[0m\u001b[0;34m:\u001b[0m\u001b[0;34m\u001b[0m\u001b[0;34m\u001b[0m\u001b[0m\n\u001b[1;32m    597\u001b[0m         \u001b[0;32mif\u001b[0m \u001b[0mcancellation_manager\u001b[0m \u001b[0;32mis\u001b[0m \u001b[0;32mNone\u001b[0m\u001b[0;34m:\u001b[0m\u001b[0;34m\u001b[0m\u001b[0;34m\u001b[0m\u001b[0m\n\u001b[0;32m--> 598\u001b[0;31m           outputs = execute.execute(\n\u001b[0m\u001b[1;32m    599\u001b[0m               \u001b[0mstr\u001b[0m\u001b[0;34m(\u001b[0m\u001b[0mself\u001b[0m\u001b[0;34m.\u001b[0m\u001b[0msignature\u001b[0m\u001b[0;34m.\u001b[0m\u001b[0mname\u001b[0m\u001b[0;34m)\u001b[0m\u001b[0;34m,\u001b[0m\u001b[0;34m\u001b[0m\u001b[0;34m\u001b[0m\u001b[0m\n\u001b[1;32m    600\u001b[0m               \u001b[0mnum_outputs\u001b[0m\u001b[0;34m=\u001b[0m\u001b[0mself\u001b[0m\u001b[0;34m.\u001b[0m\u001b[0m_num_outputs\u001b[0m\u001b[0;34m,\u001b[0m\u001b[0;34m\u001b[0m\u001b[0;34m\u001b[0m\u001b[0m\n",
      "\u001b[0;32m/opt/anaconda3/lib/python3.8/site-packages/tensorflow/python/eager/execute.py\u001b[0m in \u001b[0;36mquick_execute\u001b[0;34m(op_name, num_outputs, inputs, attrs, ctx, name)\u001b[0m\n\u001b[1;32m     56\u001b[0m   \u001b[0;32mtry\u001b[0m\u001b[0;34m:\u001b[0m\u001b[0;34m\u001b[0m\u001b[0;34m\u001b[0m\u001b[0m\n\u001b[1;32m     57\u001b[0m     \u001b[0mctx\u001b[0m\u001b[0;34m.\u001b[0m\u001b[0mensure_initialized\u001b[0m\u001b[0;34m(\u001b[0m\u001b[0;34m)\u001b[0m\u001b[0;34m\u001b[0m\u001b[0;34m\u001b[0m\u001b[0m\n\u001b[0;32m---> 58\u001b[0;31m     tensors = pywrap_tfe.TFE_Py_Execute(ctx._handle, device_name, op_name,\n\u001b[0m\u001b[1;32m     59\u001b[0m                                         inputs, attrs, num_outputs)\n\u001b[1;32m     60\u001b[0m   \u001b[0;32mexcept\u001b[0m \u001b[0mcore\u001b[0m\u001b[0;34m.\u001b[0m\u001b[0m_NotOkStatusException\u001b[0m \u001b[0;32mas\u001b[0m \u001b[0me\u001b[0m\u001b[0;34m:\u001b[0m\u001b[0;34m\u001b[0m\u001b[0;34m\u001b[0m\u001b[0m\n",
      "\u001b[0;31mKeyboardInterrupt\u001b[0m: "
     ]
    }
   ],
   "source": [
    "# Train the model for 1 epoch from Numpy data\n",
    "BATCH_SIZE = 100\n",
    "EPOCHS = 20\n",
    "\n",
    "\n",
    "model = make_model()\n",
    "history = model.fit(XTrain, YTrain, \n",
    "                    batch_size=BATCH_SIZE, \n",
    "                    epochs=EPOCHS,\n",
    "                    callbacks=callbacks_list,\n",
    "                    validation_data=(XVal, YVal)\n",
    "                    )"
   ]
  },
  {
   "cell_type": "code",
   "execution_count": null,
   "metadata": {
    "id": "x16zv0m-LPI3"
   },
   "outputs": [],
   "source": [
    "plot_metrics(history)"
   ]
  },
  {
   "cell_type": "code",
   "execution_count": null,
   "metadata": {
    "id": "yXcn5WH76TUr"
   },
   "outputs": [],
   "source": [
    "test_predictions_baseline = model.predict(XTest, batch_size=BATCH_SIZE)\n",
    "\n",
    "YTestPred = np.argmax(test_predictions_baseline,1)"
   ]
  },
  {
   "cell_type": "code",
   "execution_count": null,
   "metadata": {
    "id": "2wQmf8MA4tTz"
   },
   "outputs": [],
   "source": [
    "baseline_results = model.evaluate(XTest, YTest,\n",
    "                                  batch_size=BATCH_SIZE, verbose=0)\n",
    "for name, value in zip(model.metrics_names, baseline_results):\n",
    "  print(name, ': ', value)\n",
    "print()\n",
    "YTestAct = np.argmax(YTest,1)\n",
    "plot_cm(YTestAct, YTestPred)"
   ]
  },
  {
   "cell_type": "code",
   "execution_count": null,
   "metadata": {
    "id": "i5UfowB-7mcr"
   },
   "outputs": [],
   "source": []
  }
 ],
 "metadata": {
  "accelerator": "GPU",
  "colab": {
   "authorship_tag": "ABX9TyPAityCkXGVWGc60oDFtCbY",
   "collapsed_sections": [],
   "name": "VGG16_TransferLearning_v2.ipynb",
   "provenance": []
  },
  "kernelspec": {
   "display_name": "Python 3",
   "language": "python",
   "name": "python3"
  },
  "language_info": {
   "codemirror_mode": {
    "name": "ipython",
    "version": 3
   },
   "file_extension": ".py",
   "mimetype": "text/x-python",
   "name": "python",
   "nbconvert_exporter": "python",
   "pygments_lexer": "ipython3",
   "version": "3.8.3"
  }
 },
 "nbformat": 4,
 "nbformat_minor": 1
}
