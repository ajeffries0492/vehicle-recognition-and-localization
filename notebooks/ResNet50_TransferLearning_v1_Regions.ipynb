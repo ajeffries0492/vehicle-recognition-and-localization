{
 "cells": [
  {
   "cell_type": "code",
   "execution_count": 1,
   "metadata": {
    "id": "pHeYb4d2I6Gu"
   },
   "outputs": [],
   "source": [
    "import os\n",
    "import time\n",
    "\n",
    "import re\n",
    "from pathlib import Path\n",
    "\n",
    "import pandas as pd\n",
    "import numpy as np\n",
    "\n",
    "import tensorflow as tf\n",
    "from tensorflow import keras\n",
    "from tensorflow.keras import layers, models\n",
    "from tensorflow.keras.callbacks import EarlyStopping\n",
    "\n",
    "from sklearn.metrics import confusion_matrix\n",
    "from sklearn.model_selection import train_test_split\n",
    "\n",
    "from PIL import Image\n",
    "\n",
    "import cv2\n",
    "\n",
    "import matplotlib.pyplot as plt\n",
    "import seaborn as sns\n",
    "\n",
    "\n"
   ]
  },
  {
   "cell_type": "code",
   "execution_count": 2,
   "metadata": {
    "colab": {
     "base_uri": "https://localhost:8080/"
    },
    "executionInfo": {
     "elapsed": 1307,
     "status": "ok",
     "timestamp": 1639247526597,
     "user": {
      "displayName": "Austin Jeffries",
      "photoUrl": "https://lh3.googleusercontent.com/a-/AOh14GhKTFCAuoH8w9dWzAPKQyLC6v2zTD_t0uH0NrnL=s64",
      "userId": "15961895995029592491"
     },
     "user_tz": 300
    },
    "id": "wW9awbxRJkRt",
    "outputId": "f3f0893e-d313-46c0-b579-03ba7afd1be9"
   },
   "outputs": [],
   "source": [
    "# from google.colab import drive\n",
    "# drive.mount('/content/drive')"
   ]
  },
  {
   "cell_type": "code",
   "execution_count": 3,
   "metadata": {
    "id": "RKp3hyoF1gW2"
   },
   "outputs": [],
   "source": [
    "## Validate That GPU is Working"
   ]
  },
  {
   "cell_type": "code",
   "execution_count": 4,
   "metadata": {
    "colab": {
     "base_uri": "https://localhost:8080/"
    },
    "executionInfo": {
     "elapsed": 390,
     "status": "ok",
     "timestamp": 1639247526983,
     "user": {
      "displayName": "Austin Jeffries",
      "photoUrl": "https://lh3.googleusercontent.com/a-/AOh14GhKTFCAuoH8w9dWzAPKQyLC6v2zTD_t0uH0NrnL=s64",
      "userId": "15961895995029592491"
     },
     "user_tz": 300
    },
    "id": "XwuNVlqkJrMd",
    "outputId": "7d1b3803-52bc-4db1-f24a-0ebcdad3b4b1"
   },
   "outputs": [
    {
     "name": "stdout",
     "output_type": "stream",
     "text": [
      "GPU device not found\n",
      "Tensorflow Version: 2.7.0\n"
     ]
    }
   ],
   "source": [
    "device_name = tf.test.gpu_device_name()\n",
    "if device_name != '/device:GPU:0':\n",
    "  print('GPU device not found')\n",
    "else:\n",
    "  print('Found GPU at: {}'.format(device_name))\n",
    "\n",
    "print(f\"Tensorflow Version: {tf.version.VERSION}\")"
   ]
  },
  {
   "cell_type": "code",
   "execution_count": null,
   "metadata": {
    "id": "pftPa0YI1kbx"
   },
   "outputs": [],
   "source": [
    "# Set a Few Parameters"
   ]
  },
  {
   "cell_type": "code",
   "execution_count": null,
   "metadata": {},
   "outputs": [],
   "source": []
  },
  {
   "cell_type": "code",
   "execution_count": 6,
   "metadata": {
    "id": "JqFoAIhms5-5"
   },
   "outputs": [
    {
     "ename": "FileNotFoundError",
     "evalue": "[Errno 2] No such file or directory: '../workspace/gta_training/exported-models'",
     "output_type": "error",
     "traceback": [
      "\u001b[0;31m---------------------------------------------------------------------------\u001b[0m",
      "\u001b[0;31mFileNotFoundError\u001b[0m                         Traceback (most recent call last)",
      "\u001b[0;32m<ipython-input-6-d6ccafe036ac>\u001b[0m in \u001b[0;36m<module>\u001b[0;34m\u001b[0m\n\u001b[1;32m      6\u001b[0m \u001b[0;34m\u001b[0m\u001b[0m\n\u001b[1;32m      7\u001b[0m \u001b[0mexported_models_location\u001b[0m \u001b[0;34m=\u001b[0m \u001b[0mPath\u001b[0m\u001b[0;34m(\u001b[0m\u001b[0;34m'../workspace/gta_training/exported-models'\u001b[0m\u001b[0;34m)\u001b[0m\u001b[0;34m\u001b[0m\u001b[0;34m\u001b[0m\u001b[0m\n\u001b[0;32m----> 8\u001b[0;31m \u001b[0mexported_models_location\u001b[0m\u001b[0;34m.\u001b[0m\u001b[0mmkdir\u001b[0m\u001b[0;34m(\u001b[0m\u001b[0mexist_ok\u001b[0m\u001b[0;34m=\u001b[0m\u001b[0;32mTrue\u001b[0m\u001b[0;34m)\u001b[0m\u001b[0;34m\u001b[0m\u001b[0;34m\u001b[0m\u001b[0m\n\u001b[0m",
      "\u001b[0;32m/opt/anaconda3/lib/python3.8/pathlib.py\u001b[0m in \u001b[0;36mmkdir\u001b[0;34m(self, mode, parents, exist_ok)\u001b[0m\n\u001b[1;32m   1282\u001b[0m             \u001b[0mself\u001b[0m\u001b[0;34m.\u001b[0m\u001b[0m_raise_closed\u001b[0m\u001b[0;34m(\u001b[0m\u001b[0;34m)\u001b[0m\u001b[0;34m\u001b[0m\u001b[0;34m\u001b[0m\u001b[0m\n\u001b[1;32m   1283\u001b[0m         \u001b[0;32mtry\u001b[0m\u001b[0;34m:\u001b[0m\u001b[0;34m\u001b[0m\u001b[0;34m\u001b[0m\u001b[0m\n\u001b[0;32m-> 1284\u001b[0;31m             \u001b[0mself\u001b[0m\u001b[0;34m.\u001b[0m\u001b[0m_accessor\u001b[0m\u001b[0;34m.\u001b[0m\u001b[0mmkdir\u001b[0m\u001b[0;34m(\u001b[0m\u001b[0mself\u001b[0m\u001b[0;34m,\u001b[0m \u001b[0mmode\u001b[0m\u001b[0;34m)\u001b[0m\u001b[0;34m\u001b[0m\u001b[0;34m\u001b[0m\u001b[0m\n\u001b[0m\u001b[1;32m   1285\u001b[0m         \u001b[0;32mexcept\u001b[0m \u001b[0mFileNotFoundError\u001b[0m\u001b[0;34m:\u001b[0m\u001b[0;34m\u001b[0m\u001b[0;34m\u001b[0m\u001b[0m\n\u001b[1;32m   1286\u001b[0m             \u001b[0;32mif\u001b[0m \u001b[0;32mnot\u001b[0m \u001b[0mparents\u001b[0m \u001b[0;32mor\u001b[0m \u001b[0mself\u001b[0m\u001b[0;34m.\u001b[0m\u001b[0mparent\u001b[0m \u001b[0;34m==\u001b[0m \u001b[0mself\u001b[0m\u001b[0;34m:\u001b[0m\u001b[0;34m\u001b[0m\u001b[0;34m\u001b[0m\u001b[0m\n",
      "\u001b[0;31mFileNotFoundError\u001b[0m: [Errno 2] No such file or directory: '../workspace/gta_training/exported-models'"
     ]
    }
   ],
   "source": [
    "BATCH_SIZE = 200\n",
    "EPOCHS = 50\n",
    "val_perc_split = 0.1\n",
    "test_perc_split = 0.05\n",
    "description ='ResNet50_RegionModel'\n",
    "\n",
    "exported_models_location = Path('../workspace/gta_training/exported-models')\n",
    "exported_models_location.mkdir(exist_ok=True)"
   ]
  },
  {
   "cell_type": "code",
   "execution_count": null,
   "metadata": {
    "colab": {
     "base_uri": "https://localhost:8080/",
     "height": 206
    },
    "executionInfo": {
     "elapsed": 417,
     "status": "ok",
     "timestamp": 1639247527393,
     "user": {
      "displayName": "Austin Jeffries",
      "photoUrl": "https://lh3.googleusercontent.com/a-/AOh14GhKTFCAuoH8w9dWzAPKQyLC6v2zTD_t0uH0NrnL=s64",
      "userId": "15961895995029592491"
     },
     "user_tz": 300
    },
    "id": "ariqFB0sZc_B",
    "outputId": "a3261cad-ef1b-4cf1-f2a2-da5a126f9f42"
   },
   "outputs": [
    {
     "data": {
      "text/html": [
       "<div>\n",
       "<style scoped>\n",
       "    .dataframe tbody tr th:only-of-type {\n",
       "        vertical-align: middle;\n",
       "    }\n",
       "\n",
       "    .dataframe tbody tr th {\n",
       "        vertical-align: top;\n",
       "    }\n",
       "\n",
       "    .dataframe thead th {\n",
       "        text-align: right;\n",
       "    }\n",
       "</style>\n",
       "<table border=\"1\" class=\"dataframe\">\n",
       "  <thead>\n",
       "    <tr style=\"text-align: right;\">\n",
       "      <th></th>\n",
       "      <th>filename</th>\n",
       "      <th>class</th>\n",
       "      <th>label</th>\n",
       "      <th>min_x</th>\n",
       "      <th>min_y</th>\n",
       "      <th>max_x</th>\n",
       "      <th>max_y</th>\n",
       "    </tr>\n",
       "  </thead>\n",
       "  <tbody>\n",
       "    <tr>\n",
       "      <th>0</th>\n",
       "      <td>047b864f-0753-448b-9483-f990ae41abaf/0000_imag...</td>\n",
       "      <td>Vans</td>\n",
       "      <td>2</td>\n",
       "      <td>1530</td>\n",
       "      <td>336</td>\n",
       "      <td>1716</td>\n",
       "      <td>406</td>\n",
       "    </tr>\n",
       "    <tr>\n",
       "      <th>1</th>\n",
       "      <td>047b864f-0753-448b-9483-f990ae41abaf/0001_imag...</td>\n",
       "      <td>Coupes</td>\n",
       "      <td>1</td>\n",
       "      <td>856</td>\n",
       "      <td>415</td>\n",
       "      <td>900</td>\n",
       "      <td>450</td>\n",
       "    </tr>\n",
       "    <tr>\n",
       "      <th>2</th>\n",
       "      <td>047b864f-0753-448b-9483-f990ae41abaf/0002_imag...</td>\n",
       "      <td>Coupes</td>\n",
       "      <td>1</td>\n",
       "      <td>775</td>\n",
       "      <td>388</td>\n",
       "      <td>874</td>\n",
       "      <td>454</td>\n",
       "    </tr>\n",
       "    <tr>\n",
       "      <th>3</th>\n",
       "      <td>047b864f-0753-448b-9483-f990ae41abaf/0003_imag...</td>\n",
       "      <td>Sports</td>\n",
       "      <td>1</td>\n",
       "      <td>700</td>\n",
       "      <td>450</td>\n",
       "      <td>757</td>\n",
       "      <td>488</td>\n",
       "    </tr>\n",
       "    <tr>\n",
       "      <th>4</th>\n",
       "      <td>047b864f-0753-448b-9483-f990ae41abaf/0004_imag...</td>\n",
       "      <td>Sports</td>\n",
       "      <td>1</td>\n",
       "      <td>170</td>\n",
       "      <td>429</td>\n",
       "      <td>657</td>\n",
       "      <td>666</td>\n",
       "    </tr>\n",
       "  </tbody>\n",
       "</table>\n",
       "</div>"
      ],
      "text/plain": [
       "                                            filename   class  ...  max_x  max_y\n",
       "0  047b864f-0753-448b-9483-f990ae41abaf/0000_imag...    Vans  ...   1716    406\n",
       "1  047b864f-0753-448b-9483-f990ae41abaf/0001_imag...  Coupes  ...    900    450\n",
       "2  047b864f-0753-448b-9483-f990ae41abaf/0002_imag...  Coupes  ...    874    454\n",
       "3  047b864f-0753-448b-9483-f990ae41abaf/0003_imag...  Sports  ...    757    488\n",
       "4  047b864f-0753-448b-9483-f990ae41abaf/0004_imag...  Sports  ...    657    666\n",
       "\n",
       "[5 rows x 7 columns]"
      ]
     },
     "execution_count": 5,
     "metadata": {},
     "output_type": "execute_result"
    }
   ],
   "source": [
    " # Read in Image Summary info\n",
    "df_image_info = pd.read_parquet('/content/drive/My Drive/SCHOOL/ROB535/summarizedTrainImages.parquet')\n",
    "df_image_info.head()"
   ]
  },
  {
   "cell_type": "code",
   "execution_count": null,
   "metadata": {
    "id": "fjHHvmVBZ2wz"
   },
   "outputs": [],
   "source": [
    "# Load in Training Data"
   ]
  },
  {
   "cell_type": "code",
   "execution_count": null,
   "metadata": {
    "colab": {
     "base_uri": "https://localhost:8080/"
    },
    "executionInfo": {
     "elapsed": 253,
     "status": "ok",
     "timestamp": 1639247527642,
     "user": {
      "displayName": "Austin Jeffries",
      "photoUrl": "https://lh3.googleusercontent.com/a-/AOh14GhKTFCAuoH8w9dWzAPKQyLC6v2zTD_t0uH0NrnL=s64",
      "userId": "15961895995029592491"
     },
     "user_tz": 300
    },
    "id": "1lxDhIVaSPzu",
    "outputId": "df6bb4f9-2e46-40b4-8f49-ab5b096def05"
   },
   "outputs": [
    {
     "name": "stdout",
     "output_type": "stream",
     "text": [
      "The Parquet file has the same order as the Numpy: True\n"
     ]
    }
   ],
   "source": [
    "X = np.load('/content/drive/My Drive/SCHOOL/ROB535/XTrain120by120SegmentedImages.npy')\n",
    "Y = np.load('/content/drive/My Drive/SCHOOL/ROB535/YTrain120by120SegmentedImages.npy')\n",
    "# Check if Order is teh same\n",
    "orderSame = (df_image_info['label'].values == Y).all()\n",
    "print(f\"The Parquet file has the same order as the Numpy: {orderSame}\")\n",
    "\n",
    "# Update Height and Width\n",
    "N, height, width, channels =  X.shape\n",
    "yUnique = np.unique(Y)\n",
    "NUnique = len(yUnique)"
   ]
  },
  {
   "cell_type": "code",
   "execution_count": null,
   "metadata": {
    "id": "rL0Z3PoXt4dm"
   },
   "outputs": [],
   "source": [
    "# Create Model Description For Creating Metrics Later\n",
    "model_descript = f'{description}_{int(val_perc_split*100)}PercValAnd{int(test_perc_split*100)}Test_{BATCH_SIZE}Batch_{NUnique}classes_{width}by{height}'\n"
   ]
  },
  {
   "cell_type": "code",
   "execution_count": null,
   "metadata": {
    "colab": {
     "base_uri": "https://localhost:8080/",
     "height": 281
    },
    "executionInfo": {
     "elapsed": 847,
     "status": "ok",
     "timestamp": 1639247528487,
     "user": {
      "displayName": "Austin Jeffries",
      "photoUrl": "https://lh3.googleusercontent.com/a-/AOh14GhKTFCAuoH8w9dWzAPKQyLC6v2zTD_t0uH0NrnL=s64",
      "userId": "15961895995029592491"
     },
     "user_tz": 300
    },
    "id": "_45QgpN9C4vM",
    "outputId": "51762b87-ee1c-4f63-db23-947576959da7"
   },
   "outputs": [
    {
     "data": {
      "image/png": "[encoded data removed]",
      "text/plain": [
       "<Figure size 432x288 with 1 Axes>"
      ]
     },
     "metadata": {
      "needs_background": "light"
     },
     "output_type": "display_data"
    }
   ],
   "source": [
    "# Plot Random Train Images\n",
    "idx = np.random.randint(N)\n",
    "\n",
    "className = df_image_info['class'].iloc[idx]\n",
    "label = df_image_info['label'].iloc[idx]\n",
    "test_img = X[idx,:,:,:]\n",
    "\n",
    "plt.title(f\"Class: {className} Label: {label}\")\n",
    "# plt.title(f\"Class {Y[idx]}\")\n",
    "plt.imshow(test_img)\n",
    "plt.show()"
   ]
  },
  {
   "cell_type": "code",
   "execution_count": 1,
   "metadata": {
    "executionInfo": {
     "elapsed": 4,
     "status": "ok",
     "timestamp": 1639282348512,
     "user": {
      "displayName": "Austin Jeffries",
      "photoUrl": "https://lh3.googleusercontent.com/a-/AOh14GhKTFCAuoH8w9dWzAPKQyLC6v2zTD_t0uH0NrnL=s64",
      "userId": "15961895995029592491"
     },
     "user_tz": 300
    },
    "id": "GzPDCQCZ1wjQ"
   },
   "outputs": [],
   "source": [
    "## Split the Training Data"
   ]
  },
  {
   "cell_type": "code",
   "execution_count": null,
   "metadata": {
    "colab": {
     "base_uri": "https://localhost:8080/"
    },
    "executionInfo": {
     "elapsed": 724,
     "status": "ok",
     "timestamp": 1639247529206,
     "user": {
      "displayName": "Austin Jeffries",
      "photoUrl": "https://lh3.googleusercontent.com/a-/AOh14GhKTFCAuoH8w9dWzAPKQyLC6v2zTD_t0uH0NrnL=s64",
      "userId": "15961895995029592491"
     },
     "user_tz": 300
    },
    "id": "ea4XuyYTJ5MY",
    "outputId": "28a24dc7-03da-4d89-eb2e-8e8f6be9594f"
   },
   "outputs": [
    {
     "name": "stdout",
     "output_type": "stream",
     "text": [
      "Training Images shape: (7194, 120, 120, 3)\n",
      "Test Images shape: (379, 120, 120, 3)\n",
      "There are 3 unique classes.\n"
     ]
    }
   ],
   "source": [
    "datagen = keras.preprocessing.image.ImageDataGenerator(\n",
    "    rotation_range=25,\n",
    "    horizontal_flip=True,\n",
    "    validation_split=val_perc_split)\n",
    "\n",
    "# One Hot Encode Y Labels\n",
    "y = tf.keras.utils.to_categorical(Y, num_classes=NUnique)\n",
    "\n",
    "# Use a utility from sklearn to split and shuffle your dataset.\n",
    "XTrain, XTest, YTrain,YTest,df_image_info_train,df_image_info_test = train_test_split(X, y,df_image_info,test_size=test_perc_split)\n",
    "\n",
    "datagen.fit(XTrain)\n",
    "\n",
    "print('Training Images shape:', XTrain.shape)\n",
    "NTrain,_,_,_ = XTrain.shape\n",
    "print('Test Images shape:', XTest.shape)\n",
    "\n",
    "\n",
    "print(f\"There are {NUnique} unique classes.\")\n",
    "\n"
   ]
  },
  {
   "cell_type": "code",
   "execution_count": null,
   "metadata": {
    "id": "helKIdVob0BE"
   },
   "outputs": [],
   "source": [
    "# View a Sample of the Augmented Data"
   ]
  },
  {
   "cell_type": "code",
   "execution_count": null,
   "metadata": {
    "colab": {
     "base_uri": "https://localhost:8080/",
     "height": 268
    },
    "executionInfo": {
     "elapsed": 813,
     "status": "ok",
     "timestamp": 1639247530015,
     "user": {
      "displayName": "Austin Jeffries",
      "photoUrl": "https://lh3.googleusercontent.com/a-/AOh14GhKTFCAuoH8w9dWzAPKQyLC6v2zTD_t0uH0NrnL=s64",
      "userId": "15961895995029592491"
     },
     "user_tz": 300
    },
    "id": "HS8QxrcQHvXI",
    "outputId": "59164add-1f58-4fee-93c2-0c757a1eecfc"
   },
   "outputs": [
    {
     "data": {
      "image/png": "[encoded data removed]",
      "text/plain": [
       "<Figure size 432x288 with 1 Axes>"
      ]
     },
     "metadata": {
      "needs_background": "light"
     },
     "output_type": "display_data"
    }
   ],
   "source": [
    "sample_train_image, sample_class = next(datagen.flow(XTrain, YTrain, batch_size=1,subset='training'))\n",
    "plt.imshow(sample_train_image[0,:,:,:].astype(int))\n",
    "plt.show()"
   ]
  },
  {
   "cell_type": "markdown",
   "metadata": {
    "id": "Ihcv5ZodsIHk"
   },
   "source": [
    "Create Model"
   ]
  },
  {
   "cell_type": "code",
   "execution_count": null,
   "metadata": {
    "id": "VgDNV-x5KeOh"
   },
   "outputs": [],
   "source": [
    "METRICS = [\n",
    "\n",
    "      'accuracy',\n",
    "      keras.metrics.CategoricalAccuracy(name='categorical_accuracy'),\n",
    "      keras.metrics.Precision(name='precision'),\n",
    "      keras.metrics.Recall(name='recall'),\n",
    "      keras.metrics.AUC(name='auc'),\n",
    "      keras.metrics.AUC(name='prc', curve='PR'), # precision-recall curve\n",
    "]\n",
    "def make_model(metrics=METRICS, output_bias=None):\n",
    "  if output_bias is not None:\n",
    "    output_bias = tf.keras.initializers.Constant(output_bias)\n",
    "\n",
    "  base_model = tf.keras.applications.ResNet50(\n",
    "    weights=\"imagenet\", \n",
    "    include_top=False,\n",
    "    input_shape=(height, width,3),\n",
    "    \n",
    "  )\n",
    "  # Freeze all the layers Previously Learned\n",
    "  for layer in base_model.layers[:2]:\n",
    "      layer.trainable = False\n",
    "\n",
    "  # Check the trainable status of the individual layers\n",
    "  # for layer in base_model.layers:\n",
    "\n",
    "  #     print(layer, layer.trainable)\n",
    "\n",
    "  # Define Trainable Layers\n",
    "  flatten_layer = layers.Flatten()\n",
    "  dense_layer = layers.Dense(1024, activation='relu')\n",
    "  drop_layer = layers.Dropout(0.2)\n",
    "  prediction_layer = layers.Dense(NUnique, activation='softmax')\n",
    "\n",
    "\n",
    "\n",
    "  # Add Base Model to New Layers\n",
    "  model = models.Sequential([\n",
    "      base_model,\n",
    "      flatten_layer,\n",
    "      dense_layer,\n",
    "      drop_layer,\n",
    "      prediction_layer\n",
    "  ])\n",
    "\n",
    "  model.compile(\n",
    "      optimizer=keras.optimizers.Adam(learning_rate=1e-4),\n",
    "      loss=keras.losses.categorical_crossentropy,\n",
    "      metrics=metrics)\n",
    "\n",
    "  return model\n",
    "\n",
    "def plot_metrics(history,save_file =None):\n",
    "  metrics = ['loss', 'prc', 'precision', 'recall']\n",
    "  fig = plt.gcf()\n",
    "  fig.set_size_inches(18.5, 10.5, forward=True)\n",
    "  for n, metric in enumerate(metrics):\n",
    "    name = metric.replace(\"_\",\" \").capitalize()\n",
    "    plt.subplot(2,2,n+1)\n",
    "    plt.plot(history.epoch, history.history[metric], label='Train')\n",
    "    plt.plot(history.epoch, history.history['val_'+metric],\n",
    "              linestyle=\"--\", label='Val')\n",
    "    plt.xlabel('Epoch')\n",
    "    plt.ylabel(name)\n",
    "    if metric == 'loss':\n",
    "      plt.ylim([0, plt.ylim()[1]])\n",
    "    elif metric == 'auc':\n",
    "      plt.ylim([0.8,1])\n",
    "    else:\n",
    "      plt.ylim([0,1])\n",
    "\n",
    "    plt.legend()\n",
    "  if save_file is not None:\n",
    "    plt.savefig(str(save_file))\n",
    "\n",
    "def plot_cm(y_true, y_pred,save_file =None):\n",
    "  cm = confusion_matrix(y_true, y_pred)\n",
    "  plt.figure(figsize=(10,10))\n",
    "  sns.heatmap(cm, annot=True, fmt=\"d\")\n",
    "  plt.title('Confusion matrix')\n",
    "  plt.ylabel('Actual label')\n",
    "  plt.xlabel('Predicted label')\n",
    "  if save_file is not None:\n",
    "      plt.savefig(str(save_file))\n",
    "def find_class_weights(Y):\n",
    "  class_weights = {}\n",
    "\n",
    "  y_max = np.max(Y)\n",
    "  total = len(Y)\n",
    "\n",
    "  for i in range(y_max + 1):\n",
    "    NClass = sum(i == Y)\n",
    "    weight_for_class = (1/NClass)*(total/2.0)\n",
    "    class_weights[i] = weight_for_class\n",
    "\n",
    "    print(f\"Weight for class {i}: {weight_for_class:.2f}\")\n",
    "\n",
    "  return class_weights"
   ]
  },
  {
   "cell_type": "code",
   "execution_count": null,
   "metadata": {
    "id": "hK7SoAaZ2FIF"
   },
   "outputs": [],
   "source": [
    "early_stopping = tf.keras.callbacks.EarlyStopping(\n",
    "    monitor='val_prc', \n",
    "    verbose=1,\n",
    "    patience=10,\n",
    "    mode='max',\n",
    "    restore_best_weights=True)\n",
    "callbacks_list = [early_stopping]"
   ]
  },
  {
   "cell_type": "code",
   "execution_count": null,
   "metadata": {
    "colab": {
     "base_uri": "https://localhost:8080/"
    },
    "executionInfo": {
     "elapsed": 2004713,
     "status": "ok",
     "timestamp": 1639249932726,
     "user": {
      "displayName": "Austin Jeffries",
      "photoUrl": "https://lh3.googleusercontent.com/a-/AOh14GhKTFCAuoH8w9dWzAPKQyLC6v2zTD_t0uH0NrnL=s64",
      "userId": "15961895995029592491"
     },
     "user_tz": 300
    },
    "id": "Xf4ibv3pK_7O",
    "outputId": "5ee1f531-055a-4300-a5a0-71931f83780b"
   },
   "outputs": [
    {
     "name": "stdout",
     "output_type": "stream",
     "text": [
      "Weight for class 0: 6.80\n",
      "Weight for class 1: 0.79\n",
      "Weight for class 2: 1.71\n",
      "Epoch 1/50\n",
      "26/26 [==============================] - 59s 2s/step - loss: 2.3322 - accuracy: 0.6766 - categorical_accuracy: 0.6766 - precision: 0.6829 - recall: 0.6663 - auc: 0.8314 - prc: 0.7104 - val_loss: 0.4308 - val_accuracy: 0.8317 - val_categorical_accuracy: 0.8317 - val_precision: 0.8390 - val_recall: 0.8261 - val_auc: 0.9522 - val_prc: 0.9149\n",
      "Epoch 2/50\n",
      "26/26 [==============================] - 49s 2s/step - loss: 0.3830 - accuracy: 0.8667 - categorical_accuracy: 0.8667 - precision: 0.8797 - recall: 0.8539 - auc: 0.9737 - prc: 0.9518 - val_loss: 0.3244 - val_accuracy: 0.8679 - val_categorical_accuracy: 0.8679 - val_precision: 0.8680 - val_recall: 0.8595 - val_auc: 0.9720 - val_prc: 0.9499\n",
      "Epoch 3/50\n",
      "26/26 [==============================] - 48s 2s/step - loss: 0.2669 - accuracy: 0.9046 - categorical_accuracy: 0.9046 - precision: 0.9107 - recall: 0.8975 - auc: 0.9857 - prc: 0.9734 - val_loss: 0.2570 - val_accuracy: 0.8929 - val_categorical_accuracy: 0.8929 - val_precision: 0.8965 - val_recall: 0.8915 - val_auc: 0.9816 - val_prc: 0.9660\n",
      "Epoch 4/50\n",
      "26/26 [==============================] - 49s 2s/step - loss: 0.1822 - accuracy: 0.9344 - categorical_accuracy: 0.9344 - precision: 0.9362 - recall: 0.9334 - auc: 0.9927 - prc: 0.9861 - val_loss: 0.2000 - val_accuracy: 0.9277 - val_categorical_accuracy: 0.9277 - val_precision: 0.9277 - val_recall: 0.9277 - val_auc: 0.9890 - val_prc: 0.9795\n",
      "Epoch 5/50\n",
      "26/26 [==============================] - 49s 2s/step - loss: 0.1338 - accuracy: 0.9531 - categorical_accuracy: 0.9531 - precision: 0.9552 - recall: 0.9514 - auc: 0.9961 - prc: 0.9924 - val_loss: 0.1698 - val_accuracy: 0.9318 - val_categorical_accuracy: 0.9318 - val_precision: 0.9331 - val_recall: 0.9305 - val_auc: 0.9917 - val_prc: 0.9851\n",
      "Epoch 6/50\n",
      "26/26 [==============================] - 49s 2s/step - loss: 0.1002 - accuracy: 0.9722 - categorical_accuracy: 0.9722 - precision: 0.9728 - recall: 0.9716 - auc: 0.9980 - prc: 0.9962 - val_loss: 0.1458 - val_accuracy: 0.9513 - val_categorical_accuracy: 0.9513 - val_precision: 0.9526 - val_recall: 0.9499 - val_auc: 0.9926 - val_prc: 0.9856\n",
      "Epoch 7/50\n",
      "26/26 [==============================] - 48s 2s/step - loss: 0.0693 - accuracy: 0.9781 - categorical_accuracy: 0.9781 - precision: 0.9785 - recall: 0.9773 - auc: 0.9988 - prc: 0.9976 - val_loss: 0.1533 - val_accuracy: 0.9430 - val_categorical_accuracy: 0.9430 - val_precision: 0.9430 - val_recall: 0.9430 - val_auc: 0.9927 - val_prc: 0.9866\n",
      "Epoch 8/50\n",
      "26/26 [==============================] - 48s 2s/step - loss: 0.0469 - accuracy: 0.9856 - categorical_accuracy: 0.9856 - precision: 0.9858 - recall: 0.9856 - auc: 0.9996 - prc: 0.9992 - val_loss: 0.1508 - val_accuracy: 0.9444 - val_categorical_accuracy: 0.9444 - val_precision: 0.9470 - val_recall: 0.9444 - val_auc: 0.9931 - val_prc: 0.9873\n",
      "Epoch 9/50\n",
      "26/26 [==============================] - 48s 2s/step - loss: 0.0412 - accuracy: 0.9875 - categorical_accuracy: 0.9875 - precision: 0.9881 - recall: 0.9873 - auc: 0.9995 - prc: 0.9990 - val_loss: 0.1601 - val_accuracy: 0.9458 - val_categorical_accuracy: 0.9458 - val_precision: 0.9471 - val_recall: 0.9458 - val_auc: 0.9921 - val_prc: 0.9852\n",
      "Epoch 10/50\n",
      "26/26 [==============================] - 48s 2s/step - loss: 0.0325 - accuracy: 0.9898 - categorical_accuracy: 0.9898 - precision: 0.9898 - recall: 0.9897 - auc: 0.9998 - prc: 0.9996 - val_loss: 0.1498 - val_accuracy: 0.9458 - val_categorical_accuracy: 0.9458 - val_precision: 0.9483 - val_recall: 0.9430 - val_auc: 0.9938 - val_prc: 0.9880\n",
      "Epoch 11/50\n",
      "26/26 [==============================] - 48s 2s/step - loss: 0.0260 - accuracy: 0.9926 - categorical_accuracy: 0.9926 - precision: 0.9926 - recall: 0.9921 - auc: 0.9997 - prc: 0.9996 - val_loss: 0.1485 - val_accuracy: 0.9471 - val_categorical_accuracy: 0.9471 - val_precision: 0.9485 - val_recall: 0.9471 - val_auc: 0.9917 - val_prc: 0.9853\n",
      "Epoch 12/50\n",
      "26/26 [==============================] - 49s 2s/step - loss: 0.0202 - accuracy: 0.9946 - categorical_accuracy: 0.9946 - precision: 0.9946 - recall: 0.9946 - auc: 0.9998 - prc: 0.9996 - val_loss: 0.1469 - val_accuracy: 0.9485 - val_categorical_accuracy: 0.9485 - val_precision: 0.9498 - val_recall: 0.9471 - val_auc: 0.9942 - val_prc: 0.9886\n",
      "Epoch 13/50\n",
      "26/26 [==============================] - 48s 2s/step - loss: 0.0165 - accuracy: 0.9943 - categorical_accuracy: 0.9943 - precision: 0.9943 - recall: 0.9941 - auc: 0.9999 - prc: 0.9999 - val_loss: 0.1403 - val_accuracy: 0.9499 - val_categorical_accuracy: 0.9499 - val_precision: 0.9512 - val_recall: 0.9485 - val_auc: 0.9924 - val_prc: 0.9858\n",
      "Epoch 14/50\n",
      "26/26 [==============================] - 48s 2s/step - loss: 0.0152 - accuracy: 0.9952 - categorical_accuracy: 0.9952 - precision: 0.9952 - recall: 0.9951 - auc: 0.9998 - prc: 0.9997 - val_loss: 0.1608 - val_accuracy: 0.9555 - val_categorical_accuracy: 0.9555 - val_precision: 0.9582 - val_recall: 0.9555 - val_auc: 0.9903 - val_prc: 0.9825\n",
      "Epoch 15/50\n",
      "26/26 [==============================] - 48s 2s/step - loss: 0.0122 - accuracy: 0.9966 - categorical_accuracy: 0.9966 - precision: 0.9966 - recall: 0.9966 - auc: 1.0000 - prc: 0.9999 - val_loss: 0.1722 - val_accuracy: 0.9485 - val_categorical_accuracy: 0.9485 - val_precision: 0.9485 - val_recall: 0.9485 - val_auc: 0.9903 - val_prc: 0.9810\n",
      "Epoch 16/50\n",
      "26/26 [==============================] - 48s 2s/step - loss: 0.0100 - accuracy: 0.9971 - categorical_accuracy: 0.9971 - precision: 0.9971 - recall: 0.9971 - auc: 0.9999 - prc: 0.9997 - val_loss: 0.1787 - val_accuracy: 0.9555 - val_categorical_accuracy: 0.9555 - val_precision: 0.9568 - val_recall: 0.9541 - val_auc: 0.9917 - val_prc: 0.9837\n",
      "Epoch 17/50\n",
      "26/26 [==============================] - 48s 2s/step - loss: 0.0138 - accuracy: 0.9957 - categorical_accuracy: 0.9957 - precision: 0.9957 - recall: 0.9957 - auc: 1.0000 - prc: 0.9999 - val_loss: 0.1384 - val_accuracy: 0.9652 - val_categorical_accuracy: 0.9652 - val_precision: 0.9652 - val_recall: 0.9652 - val_auc: 0.9929 - val_prc: 0.9869\n",
      "Epoch 18/50\n",
      "26/26 [==============================] - 48s 2s/step - loss: 0.0108 - accuracy: 0.9977 - categorical_accuracy: 0.9977 - precision: 0.9977 - recall: 0.9975 - auc: 0.9999 - prc: 0.9997 - val_loss: 0.1200 - val_accuracy: 0.9694 - val_categorical_accuracy: 0.9694 - val_precision: 0.9708 - val_recall: 0.9694 - val_auc: 0.9944 - val_prc: 0.9897\n",
      "Epoch 19/50\n",
      "26/26 [==============================] - 48s 2s/step - loss: 0.0078 - accuracy: 0.9972 - categorical_accuracy: 0.9972 - precision: 0.9972 - recall: 0.9972 - auc: 1.0000 - prc: 1.0000 - val_loss: 0.1459 - val_accuracy: 0.9638 - val_categorical_accuracy: 0.9638 - val_precision: 0.9652 - val_recall: 0.9638 - val_auc: 0.9919 - val_prc: 0.9849\n",
      "Epoch 20/50\n",
      "26/26 [==============================] - 48s 2s/step - loss: 0.0086 - accuracy: 0.9975 - categorical_accuracy: 0.9975 - precision: 0.9975 - recall: 0.9975 - auc: 0.9999 - prc: 0.9997 - val_loss: 0.1717 - val_accuracy: 0.9611 - val_categorical_accuracy: 0.9611 - val_precision: 0.9611 - val_recall: 0.9611 - val_auc: 0.9919 - val_prc: 0.9849\n",
      "Epoch 21/50\n",
      "26/26 [==============================] - 48s 2s/step - loss: 0.0092 - accuracy: 0.9972 - categorical_accuracy: 0.9972 - precision: 0.9972 - recall: 0.9972 - auc: 1.0000 - prc: 1.0000 - val_loss: 0.1545 - val_accuracy: 0.9652 - val_categorical_accuracy: 0.9652 - val_precision: 0.9652 - val_recall: 0.9638 - val_auc: 0.9915 - val_prc: 0.9848\n",
      "Epoch 22/50\n",
      "26/26 [==============================] - 48s 2s/step - loss: 0.0054 - accuracy: 0.9986 - categorical_accuracy: 0.9986 - precision: 0.9986 - recall: 0.9985 - auc: 1.0000 - prc: 1.0000 - val_loss: 0.1224 - val_accuracy: 0.9722 - val_categorical_accuracy: 0.9722 - val_precision: 0.9722 - val_recall: 0.9722 - val_auc: 0.9939 - val_prc: 0.9887\n",
      "Epoch 23/50\n",
      "26/26 [==============================] - 48s 2s/step - loss: 0.0028 - accuracy: 0.9995 - categorical_accuracy: 0.9995 - precision: 0.9995 - recall: 0.9994 - auc: 1.0000 - prc: 1.0000 - val_loss: 0.1830 - val_accuracy: 0.9569 - val_categorical_accuracy: 0.9569 - val_precision: 0.9569 - val_recall: 0.9569 - val_auc: 0.9897 - val_prc: 0.9800\n",
      "Epoch 24/50\n",
      "26/26 [==============================] - 48s 2s/step - loss: 0.0041 - accuracy: 0.9991 - categorical_accuracy: 0.9991 - precision: 0.9991 - recall: 0.9991 - auc: 1.0000 - prc: 1.0000 - val_loss: 0.1476 - val_accuracy: 0.9638 - val_categorical_accuracy: 0.9638 - val_precision: 0.9638 - val_recall: 0.9638 - val_auc: 0.9924 - val_prc: 0.9858\n",
      "Epoch 25/50\n",
      "26/26 [==============================] - 48s 2s/step - loss: 0.0051 - accuracy: 0.9983 - categorical_accuracy: 0.9983 - precision: 0.9983 - recall: 0.9983 - auc: 1.0000 - prc: 1.0000 - val_loss: 0.1930 - val_accuracy: 0.9611 - val_categorical_accuracy: 0.9611 - val_precision: 0.9611 - val_recall: 0.9611 - val_auc: 0.9893 - val_prc: 0.9807\n",
      "Epoch 26/50\n",
      "26/26 [==============================] - 48s 2s/step - loss: 0.0104 - accuracy: 0.9974 - categorical_accuracy: 0.9974 - precision: 0.9974 - recall: 0.9974 - auc: 0.9996 - prc: 0.9993 - val_loss: 0.1942 - val_accuracy: 0.9597 - val_categorical_accuracy: 0.9597 - val_precision: 0.9596 - val_recall: 0.9583 - val_auc: 0.9880 - val_prc: 0.9773\n",
      "Epoch 27/50\n",
      "26/26 [==============================] - 48s 2s/step - loss: 0.0053 - accuracy: 0.9985 - categorical_accuracy: 0.9985 - precision: 0.9985 - recall: 0.9985 - auc: 1.0000 - prc: 1.0000 - val_loss: 0.1378 - val_accuracy: 0.9666 - val_categorical_accuracy: 0.9666 - val_precision: 0.9666 - val_recall: 0.9666 - val_auc: 0.9916 - val_prc: 0.9843\n",
      "Epoch 28/50\n",
      "26/26 [==============================] - ETA: 0s - loss: 0.0048 - accuracy: 0.9986 - categorical_accuracy: 0.9986 - precision: 0.9986 - recall: 0.9986 - auc: 1.0000 - prc: 1.0000Restoring model weights from the end of the best epoch: 18.\n",
      "26/26 [==============================] - 49s 2s/step - loss: 0.0048 - accuracy: 0.9986 - categorical_accuracy: 0.9986 - precision: 0.9986 - recall: 0.9986 - auc: 1.0000 - prc: 1.0000 - val_loss: 0.1414 - val_accuracy: 0.9694 - val_categorical_accuracy: 0.9694 - val_precision: 0.9694 - val_recall: 0.9694 - val_auc: 0.9935 - val_prc: 0.9873\n",
      "Epoch 00028: early stopping\n"
     ]
    }
   ],
   "source": [
    "# Train the model for 1 epoch from Numpy data\n",
    "model = make_model()\n",
    "history = model.fit(datagen.flow(XTrain, YTrain, batch_size=BATCH_SIZE,subset='training'), \n",
    "                    validation_data=datagen.flow(XTrain, YTrain, batch_size=BATCH_SIZE, subset='validation'),\n",
    "                    epochs=EPOCHS,\n",
    "                    callbacks=callbacks_list,               \n",
    "                    class_weight=find_class_weights(np.argmax(YTrain,1))\n",
    "                    )"
   ]
  },
  {
   "cell_type": "code",
   "execution_count": null,
   "metadata": {
    "id": "tZvBpy62upmp"
   },
   "outputs": [],
   "source": [
    "# Create Folder to Save Files\n",
    "\n",
    "pathToModelSaveDir = Path(exported_models_location) / Path(model_descript)\n",
    "pathToModelSaveDir.mkdir(exist_ok=True)"
   ]
  },
  {
   "cell_type": "code",
   "execution_count": null,
   "metadata": {
    "id": "x16zv0m-LPI3"
   },
   "outputs": [],
   "source": [
    "# Save and Show Plot Metrics\n",
    "val_loss_metrics ='metrics.png'\n",
    "pathToModelMetricsImage = pathToModelSaveDir / Path(val_loss_metrics)\n",
    "plot_metrics(history,pathToModelMetricsImage)"
   ]
  },
  {
   "cell_type": "code",
   "execution_count": null,
   "metadata": {
    "id": "yXcn5WH76TUr"
   },
   "outputs": [],
   "source": [
    "# Show COnfusion Matrix of Hold Out Test Data"
   ]
  },
  {
   "cell_type": "code",
   "execution_count": null,
   "metadata": {
    "id": "2wQmf8MA4tTz"
   },
   "outputs": [],
   "source": [
    "test_predictions_baseline = model.predict(XTest, batch_size=BATCH_SIZE)\n",
    "\n",
    "YTestPred = np.argmax(test_predictions_baseline,1)\n",
    "baseline_results = model.evaluate(XTest, YTest,\n",
    "                                  batch_size=BATCH_SIZE, verbose=0)\n",
    "for name, value in zip(model.metrics_names, baseline_results):\n",
    "  print(name, ': ', value)\n",
    "print()\n",
    "YTestAct = np.argmax(YTest,1)\n",
    "\n",
    "confusion_matrix_image ='test_data_confusion_matrix.png'\n",
    "pathToCMImage = pathToModelSaveDir / Path(confusion_matrix_image)\n",
    "\n",
    "plot_cm(YTestAct, YTestPred,pathToCMImage)"
   ]
  },
  {
   "cell_type": "code",
   "execution_count": null,
   "metadata": {
    "id": "CbKKeX_JXPWN"
   },
   "outputs": [],
   "source": [
    "test_images_location = '/content/drive/My Drive/SCHOOL/ROB535/PerceptionFinalProject/trainval'\n"
   ]
  },
  {
   "cell_type": "code",
   "execution_count": null,
   "metadata": {
    "id": "O-d-ZJb2suo4"
   },
   "outputs": [],
   "source": [
    "def find_detections_in_image(test_images_location,df_image_info_test,idx,YIncorrectTestPredScore):\n",
    "\n",
    "    testFileName = df_image_info_test['filename'].iloc[idx]\n",
    "    ymin,xmin,ymax,xmax = df_image_info_test.loc[:,['min_y','min_x','max_y','max_x']].iloc[idx].tolist()\n",
    "    label = df_image_info_test['label'].iloc[idx]\n",
    "    pathToTestFile = Path(test_images_location) / Path(testFileName)\n",
    "\n",
    "    image = np.array(Image.open(str(pathToTestFile)))\n",
    "    H,W, _ = image.shape\n",
    "\n",
    "    ymin,xmin,ymax,xmax = int(ymin),int(xmin),int(ymax),int(xmax)\n",
    "    \n",
    "    # if category_index is not None:\n",
    "    #     label = category_index[label]['name']\n",
    "\n",
    "    # max_score = YIncorrectTestPredScore[idx]\n",
    "\n",
    "    text = f\"Class {label}\"\n",
    "    print(ymin)\n",
    "\n",
    "    image = cv2.rectangle(image, (xmin, ymin), (xmax, ymax), (50, 168, 164), 4)\n",
    "    cv2.putText(image, text, (xmin, ymin-10), cv2.FONT_HERSHEY_SIMPLEX, 0.5, (50, 168, 164), 2) \n",
    "    plt.figure(figsize=(15,10))\n",
    "    plt.imshow(image)\n",
    "    plt.show()"
   ]
  },
  {
   "cell_type": "code",
   "execution_count": null,
   "metadata": {
    "id": "6Hz2gCQotFc4"
   },
   "outputs": [],
   "source": [
    "# Let's Look at Some Random Images That Were Incorrectly Classified"
   ]
  },
  {
   "cell_type": "code",
   "execution_count": null,
   "metadata": {
    "id": "kgdJNM9YVJ6U"
   },
   "outputs": [],
   "source": [
    "filterToIncorrectTest = YTestAct != YTestPred\n",
    "XIncorrectTest = XTest[filterToIncorrectTest,:,:,:]\n",
    "YIncorrectTestAct = YTestAct[filterToIncorrectTest]\n",
    "YIncorrectTestPred = YTestPred[filterToIncorrectTest]\n",
    "YIncorrectTestPredScore = np.max(YTest[filterToIncorrectTest,:])\n",
    "\n",
    "\n",
    "NTest,_,_,_ = XINcorrectTest.shape\n",
    "print(f\"There are incorrectly labeled classes {NTest}\")\n",
    "\n",
    "# PLot Random Train Images\n",
    "idx = np.random.randint(NTest)\n",
    "\n",
    "\n",
    "\n",
    "find_detections_in_image(test_images_location,df_image_info_test[filterToIncorrectTest],idx,YIncorrectTestPredScore)\n",
    "\n",
    "\n",
    "\n",
    "\n",
    "test_img = XIncorrectTest[idx,:,:,:]\n",
    "plt.figure(figsize=(15,10))\n",
    "\n",
    "plt.title(f\"Class Actual {YIncorrectTestAct[idx]}; Class Prediction {YIncorrectTestPred[idx]}\")\n",
    "plt.imshow(test_img)\n",
    "plt.show()"
   ]
  },
  {
   "cell_type": "code",
   "execution_count": null,
   "metadata": {
    "id": "6ReZeGd7RkPn"
   },
   "outputs": [],
   "source": [
    "# Save Model\n",
    "model.save(str(pathToModelSaveDir))"
   ]
  },
  {
   "cell_type": "code",
   "execution_count": null,
   "metadata": {
    "id": "i5UfowB-7mcr"
   },
   "outputs": [],
   "source": [
    "# # Test Images on Best Model\n",
    "XTest = np.load('/content/drive/My Drive/SCHOOL/ROB535/XTestthree_class_resnet50_v1_fpn_120821.npy')\n",
    "GUID = np.load('/content/drive/My Drive/SCHOOL/ROB535/XTestGUIDthree_class_resnet50_v1_fpn_120821.npy')"
   ]
  },
  {
   "cell_type": "code",
   "execution_count": null,
   "metadata": {
    "id": "PakpfEPlA2ah"
   },
   "outputs": [],
   "source": [
    "N, height, width, channels =  XTest.shape"
   ]
  },
  {
   "cell_type": "code",
   "execution_count": null,
   "metadata": {
    "id": "inbzknbqBAws"
   },
   "outputs": [],
   "source": [
    "# Get Test Data Predictions\n",
    "y_pred = model.predict(XTest)\n",
    "y_hats = np.argmax(y_pred,1)"
   ]
  },
  {
   "cell_type": "code",
   "execution_count": null,
   "metadata": {
    "id": "sLJfZnaj3R1E"
   },
   "outputs": [],
   "source": [
    "# Create Pandas DataFrame\n",
    "df_test_info = pd.DataFrame(zip(GUID,y_hats),columns=['guid/image','label'])\n",
    "df_test_info.head()"
   ]
  },
  {
   "cell_type": "code",
   "execution_count": null,
   "metadata": {
    "id": "JABeJpG6BfMo"
   },
   "outputs": [],
   "source": [
    "# Check Class Uniquenness\n",
    "for l in df_test_info['label'].unique():\n",
    "  print(f\"{l}:\\t{sum(l == df_test_info['label'].values)}\")"
   ]
  },
  {
   "cell_type": "code",
   "execution_count": null,
   "metadata": {
    "id": "NhbALRbqBSad"
   },
   "outputs": [],
   "source": [
    "# Save Test Results to CSV\n",
    "pathToCSVResults = pathToModelSaveDir / Path(f\"{model_descript}SSD_OneClass120421Region.csv\")\n",
    "df_test_info.loc[:,['guid/image','label']].to_csv(pathToCSVResults,index=False)"
   ]
  }
 ],
 "metadata": {
  "accelerator": "GPU",
  "colab": {
   "collapsed_sections": [],
   "name": "ResNet50_TransferLearning_v1_Regions.ipynb",
   "provenance": []
  },
  "kernelspec": {
   "display_name": "Python 3",
   "language": "python",
   "name": "python3"
  },
  "language_info": {
   "codemirror_mode": {
    "name": "ipython",
    "version": 3
   },
   "file_extension": ".py",
   "mimetype": "text/x-python",
   "name": "python",
   "nbconvert_exporter": "python",
   "pygments_lexer": "ipython3",
   "version": "3.8.3"
  }
 },
 "nbformat": 4,
 "nbformat_minor": 1
}
